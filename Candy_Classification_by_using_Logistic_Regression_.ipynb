{
  "nbformat": 4,
  "nbformat_minor": 0,
  "metadata": {
    "colab": {
      "name": "Candy Classification by using Logistic Regression .ipynb",
      "provenance": [],
      "authorship_tag": "ABX9TyPlEM//vs/pynCJNE8E3eIx",
      "include_colab_link": true
    },
    "kernelspec": {
      "name": "python3",
      "display_name": "Python 3"
    },
    "language_info": {
      "name": "python"
    }
  },
  "cells": [
    {
      "cell_type": "markdown",
      "metadata": {
        "id": "view-in-github",
        "colab_type": "text"
      },
      "source": [
        "<a href=\"https://colab.research.google.com/github/mohmaed7777/The-Ultimate-Halloween-Candy-Power-Ranking/blob/main/Candy_Classification_by_using_Logistic_Regression_.ipynb\" target=\"_parent\"><img src=\"https://colab.research.google.com/assets/colab-badge.svg\" alt=\"Open In Colab\"/></a>"
      ]
    },
    {
      "cell_type": "code",
      "metadata": {
        "id": "H3A8u2Us-l10",
        "colab": {
          "base_uri": "https://localhost:8080/"
        },
        "outputId": "4f78926c-3a33-4c8c-f082-d6f0e1ea30db"
      },
      "source": [
        "import pandas as pd \n",
        "import numpy as np \n",
        "import matplotlib.pyplot as plt \n",
        "import seaborn as sns\n",
        "sns.set()\n",
        "%matplotlib inline \n",
        "%config InlineBackend.figure_formats=['retina']\n",
        "%pylab inline \n",
        "print('Setup Complete$$')"
      ],
      "execution_count": 28,
      "outputs": [
        {
          "output_type": "stream",
          "text": [
            "Populating the interactive namespace from numpy and matplotlib\n",
            "Setup Complete$$\n"
          ],
          "name": "stdout"
        }
      ]
    },
    {
      "cell_type": "code",
      "metadata": {
        "colab": {
          "base_uri": "https://localhost:8080/",
          "height": 215
        },
        "id": "EgARAXnN-5eM",
        "outputId": "48fcbc58-8b77-4bf2-b0ea-c1bf119336e0"
      },
      "source": [
        "df = pd.read_csv('/content/candy-data.csv')\n",
        "df.head()"
      ],
      "execution_count": 29,
      "outputs": [
        {
          "output_type": "execute_result",
          "data": {
            "text/html": [
              "<div>\n",
              "<style scoped>\n",
              "    .dataframe tbody tr th:only-of-type {\n",
              "        vertical-align: middle;\n",
              "    }\n",
              "\n",
              "    .dataframe tbody tr th {\n",
              "        vertical-align: top;\n",
              "    }\n",
              "\n",
              "    .dataframe thead th {\n",
              "        text-align: right;\n",
              "    }\n",
              "</style>\n",
              "<table border=\"1\" class=\"dataframe\">\n",
              "  <thead>\n",
              "    <tr style=\"text-align: right;\">\n",
              "      <th></th>\n",
              "      <th>competitorname</th>\n",
              "      <th>chocolate</th>\n",
              "      <th>fruity</th>\n",
              "      <th>caramel</th>\n",
              "      <th>peanutyalmondy</th>\n",
              "      <th>nougat</th>\n",
              "      <th>crispedricewafer</th>\n",
              "      <th>hard</th>\n",
              "      <th>bar</th>\n",
              "      <th>pluribus</th>\n",
              "      <th>sugarpercent</th>\n",
              "      <th>pricepercent</th>\n",
              "      <th>winpercent</th>\n",
              "    </tr>\n",
              "  </thead>\n",
              "  <tbody>\n",
              "    <tr>\n",
              "      <th>0</th>\n",
              "      <td>100 Grand</td>\n",
              "      <td>1</td>\n",
              "      <td>0</td>\n",
              "      <td>1</td>\n",
              "      <td>0</td>\n",
              "      <td>0</td>\n",
              "      <td>1</td>\n",
              "      <td>0</td>\n",
              "      <td>1</td>\n",
              "      <td>0</td>\n",
              "      <td>0.732</td>\n",
              "      <td>0.860</td>\n",
              "      <td>66.971725</td>\n",
              "    </tr>\n",
              "    <tr>\n",
              "      <th>1</th>\n",
              "      <td>3 Musketeers</td>\n",
              "      <td>1</td>\n",
              "      <td>0</td>\n",
              "      <td>0</td>\n",
              "      <td>0</td>\n",
              "      <td>1</td>\n",
              "      <td>0</td>\n",
              "      <td>0</td>\n",
              "      <td>1</td>\n",
              "      <td>0</td>\n",
              "      <td>0.604</td>\n",
              "      <td>0.511</td>\n",
              "      <td>67.602936</td>\n",
              "    </tr>\n",
              "    <tr>\n",
              "      <th>2</th>\n",
              "      <td>One dime</td>\n",
              "      <td>0</td>\n",
              "      <td>0</td>\n",
              "      <td>0</td>\n",
              "      <td>0</td>\n",
              "      <td>0</td>\n",
              "      <td>0</td>\n",
              "      <td>0</td>\n",
              "      <td>0</td>\n",
              "      <td>0</td>\n",
              "      <td>0.011</td>\n",
              "      <td>0.116</td>\n",
              "      <td>32.261086</td>\n",
              "    </tr>\n",
              "    <tr>\n",
              "      <th>3</th>\n",
              "      <td>One quarter</td>\n",
              "      <td>0</td>\n",
              "      <td>0</td>\n",
              "      <td>0</td>\n",
              "      <td>0</td>\n",
              "      <td>0</td>\n",
              "      <td>0</td>\n",
              "      <td>0</td>\n",
              "      <td>0</td>\n",
              "      <td>0</td>\n",
              "      <td>0.011</td>\n",
              "      <td>0.511</td>\n",
              "      <td>46.116505</td>\n",
              "    </tr>\n",
              "    <tr>\n",
              "      <th>4</th>\n",
              "      <td>Air Heads</td>\n",
              "      <td>0</td>\n",
              "      <td>1</td>\n",
              "      <td>0</td>\n",
              "      <td>0</td>\n",
              "      <td>0</td>\n",
              "      <td>0</td>\n",
              "      <td>0</td>\n",
              "      <td>0</td>\n",
              "      <td>0</td>\n",
              "      <td>0.906</td>\n",
              "      <td>0.511</td>\n",
              "      <td>52.341465</td>\n",
              "    </tr>\n",
              "  </tbody>\n",
              "</table>\n",
              "</div>"
            ],
            "text/plain": [
              "  competitorname  chocolate  fruity  ...  sugarpercent  pricepercent  winpercent\n",
              "0      100 Grand          1       0  ...         0.732         0.860   66.971725\n",
              "1   3 Musketeers          1       0  ...         0.604         0.511   67.602936\n",
              "2       One dime          0       0  ...         0.011         0.116   32.261086\n",
              "3    One quarter          0       0  ...         0.011         0.511   46.116505\n",
              "4      Air Heads          0       1  ...         0.906         0.511   52.341465\n",
              "\n",
              "[5 rows x 13 columns]"
            ]
          },
          "metadata": {
            "tags": []
          },
          "execution_count": 29
        }
      ]
    },
    {
      "cell_type": "code",
      "metadata": {
        "id": "eSEMC5nX_SKl",
        "colab": {
          "base_uri": "https://localhost:8080/"
        },
        "outputId": "cb9415a6-617a-462d-f7de-b0c88db2c160"
      },
      "source": [
        "df.info()"
      ],
      "execution_count": 30,
      "outputs": [
        {
          "output_type": "stream",
          "text": [
            "<class 'pandas.core.frame.DataFrame'>\n",
            "RangeIndex: 85 entries, 0 to 84\n",
            "Data columns (total 13 columns):\n",
            " #   Column            Non-Null Count  Dtype  \n",
            "---  ------            --------------  -----  \n",
            " 0   competitorname    85 non-null     object \n",
            " 1   chocolate         85 non-null     int64  \n",
            " 2   fruity            85 non-null     int64  \n",
            " 3   caramel           85 non-null     int64  \n",
            " 4   peanutyalmondy    85 non-null     int64  \n",
            " 5   nougat            85 non-null     int64  \n",
            " 6   crispedricewafer  85 non-null     int64  \n",
            " 7   hard              85 non-null     int64  \n",
            " 8   bar               85 non-null     int64  \n",
            " 9   pluribus          85 non-null     int64  \n",
            " 10  sugarpercent      85 non-null     float64\n",
            " 11  pricepercent      85 non-null     float64\n",
            " 12  winpercent        85 non-null     float64\n",
            "dtypes: float64(3), int64(9), object(1)\n",
            "memory usage: 8.8+ KB\n"
          ],
          "name": "stdout"
        }
      ]
    },
    {
      "cell_type": "code",
      "metadata": {
        "id": "0CkQ5gOCqf7Z",
        "colab": {
          "base_uri": "https://localhost:8080/"
        },
        "outputId": "fc51222f-f82f-4772-f661-8c2221cb9ecc"
      },
      "source": [
        "df.dtypes"
      ],
      "execution_count": 31,
      "outputs": [
        {
          "output_type": "execute_result",
          "data": {
            "text/plain": [
              "competitorname       object\n",
              "chocolate             int64\n",
              "fruity                int64\n",
              "caramel               int64\n",
              "peanutyalmondy        int64\n",
              "nougat                int64\n",
              "crispedricewafer      int64\n",
              "hard                  int64\n",
              "bar                   int64\n",
              "pluribus              int64\n",
              "sugarpercent        float64\n",
              "pricepercent        float64\n",
              "winpercent          float64\n",
              "dtype: object"
            ]
          },
          "metadata": {
            "tags": []
          },
          "execution_count": 31
        }
      ]
    },
    {
      "cell_type": "code",
      "metadata": {
        "id": "svWeCJpOq5JI",
        "colab": {
          "base_uri": "https://localhost:8080/"
        },
        "outputId": "064901b5-f631-4201-b048-024f1751bb2d"
      },
      "source": [
        "df.dtypes.value_counts()"
      ],
      "execution_count": 32,
      "outputs": [
        {
          "output_type": "execute_result",
          "data": {
            "text/plain": [
              "int64      9\n",
              "float64    3\n",
              "object     1\n",
              "dtype: int64"
            ]
          },
          "metadata": {
            "tags": []
          },
          "execution_count": 32
        }
      ]
    },
    {
      "cell_type": "code",
      "metadata": {
        "id": "pyF-x9dYq9F2",
        "colab": {
          "base_uri": "https://localhost:8080/"
        },
        "outputId": "3f99b123-dd74-48b4-9a71-ef5b556ab5ec"
      },
      "source": [
        "df.iloc[:, :-1].min().value_counts()"
      ],
      "execution_count": 33,
      "outputs": [
        {
          "output_type": "execute_result",
          "data": {
            "text/plain": [
              "0                       9\n",
              "0.011000000000000001    2\n",
              "100 Grand               1\n",
              "dtype: int64"
            ]
          },
          "metadata": {
            "tags": []
          },
          "execution_count": 33
        }
      ]
    },
    {
      "cell_type": "code",
      "metadata": {
        "id": "6xSulA5arI_T",
        "colab": {
          "base_uri": "https://localhost:8080/"
        },
        "outputId": "d2da4cbd-7ca8-45ba-bb07-df385aae9d31"
      },
      "source": [
        "df.iloc[:, :-1].max().value_counts()"
      ],
      "execution_count": 34,
      "outputs": [
        {
          "output_type": "execute_result",
          "data": {
            "text/plain": [
              "1             9\n",
              "0.97600001    1\n",
              "0.98799998    1\n",
              "Whoppers      1\n",
              "dtype: int64"
            ]
          },
          "metadata": {
            "tags": []
          },
          "execution_count": 34
        }
      ]
    },
    {
      "cell_type": "code",
      "metadata": {
        "id": "HoNtKZmPrOzq",
        "colab": {
          "base_uri": "https://localhost:8080/"
        },
        "outputId": "a7c60e8d-2dd7-4d9f-f95d-71e1c63c04ba"
      },
      "source": [
        "df.competitorname.value_counts()"
      ],
      "execution_count": 35,
      "outputs": [
        {
          "output_type": "execute_result",
          "data": {
            "text/plain": [
              "Charleston Chew                1\n",
              "M&MÕs                          1\n",
              "Fun Dip                        1\n",
              "Lifesavers big ring gummies    1\n",
              "Laffy Taffy                    1\n",
              "                              ..\n",
              "ReeseÕs stuffed with pieces    1\n",
              "Nestle Smarties                1\n",
              "Starburst                      1\n",
              "One dime                       1\n",
              "Milky Way                      1\n",
              "Name: competitorname, Length: 85, dtype: int64"
            ]
          },
          "metadata": {
            "tags": []
          },
          "execution_count": 35
        }
      ]
    },
    {
      "cell_type": "code",
      "metadata": {
        "id": "hEZ3bFqorfcA",
        "colab": {
          "base_uri": "https://localhost:8080/"
        },
        "outputId": "18d2bfcc-2cd3-496b-dc6f-474c350bdb57"
      },
      "source": [
        "df.shape"
      ],
      "execution_count": 36,
      "outputs": [
        {
          "output_type": "execute_result",
          "data": {
            "text/plain": [
              "(85, 13)"
            ]
          },
          "metadata": {
            "tags": []
          },
          "execution_count": 36
        }
      ]
    },
    {
      "cell_type": "code",
      "metadata": {
        "id": "oKLYoYnGrqH7",
        "colab": {
          "base_uri": "https://localhost:8080/"
        },
        "outputId": "281c2371-3ba3-4e93-ce88-7a2529c091a1"
      },
      "source": [
        "print(len(df.competitorname))"
      ],
      "execution_count": 37,
      "outputs": [
        {
          "output_type": "stream",
          "text": [
            "85\n"
          ],
          "name": "stdout"
        }
      ]
    },
    {
      "cell_type": "code",
      "metadata": {
        "id": "5Z8x1FjG8tRh",
        "colab": {
          "base_uri": "https://localhost:8080/"
        },
        "outputId": "2d4f2b75-1d75-4f07-942f-1230c825f753"
      },
      "source": [
        "# Check the unique values in the competitorname : \n",
        "df.competitorname.unique()"
      ],
      "execution_count": 38,
      "outputs": [
        {
          "output_type": "execute_result",
          "data": {
            "text/plain": [
              "array(['100 Grand', '3 Musketeers', 'One dime', 'One quarter',\n",
              "       'Air Heads', 'Almond Joy', 'Baby Ruth', 'Boston Baked Beans',\n",
              "       'Candy Corn', 'Caramel Apple Pops', 'Charleston Chew',\n",
              "       'Chewey Lemonhead Fruit Mix', 'Chiclets', 'Dots', 'Dum Dums',\n",
              "       'Fruit Chews', 'Fun Dip', 'Gobstopper', 'Haribo Gold Bears',\n",
              "       'Haribo Happy Cola', 'Haribo Sour Bears', 'Haribo Twin Snakes',\n",
              "       'HersheyÕs Kisses', 'HersheyÕs Krackel',\n",
              "       'HersheyÕs Milk Chocolate', 'HersheyÕs Special Dark', 'Jawbusters',\n",
              "       'Junior Mints', 'Kit Kat', 'Laffy Taffy', 'Lemonhead',\n",
              "       'Lifesavers big ring gummies', 'Peanut butter M&MÕs', 'M&MÕs',\n",
              "       'Mike & Ike', 'Milk Duds', 'Milky Way', 'Milky Way Midnight',\n",
              "       'Milky Way Simply Caramel', 'Mounds', 'Mr Good Bar', 'Nerds',\n",
              "       'Nestle Butterfinger', 'Nestle Crunch', 'Nik L Nip', 'Now & Later',\n",
              "       'Payday', 'Peanut M&Ms', 'Pixie Sticks', 'Pop Rocks', 'Red vines',\n",
              "       'ReeseÕs Miniatures', 'ReeseÕs Peanut Butter cup',\n",
              "       'ReeseÕs pieces', 'ReeseÕs stuffed with pieces', 'Ring pop',\n",
              "       'Rolo', 'Root Beer Barrels', 'Runts', 'Sixlets',\n",
              "       'Skittles original', 'Skittles wildberry', 'Nestle Smarties',\n",
              "       'Smarties candy', 'Snickers', 'Snickers Crisper',\n",
              "       'Sour Patch Kids', 'Sour Patch Tricksters', 'Starburst',\n",
              "       'Strawberry bon bons', 'Sugar Babies', 'Sugar Daddy',\n",
              "       'Super Bubble', 'Swedish Fish', 'Tootsie Pop',\n",
              "       'Tootsie Roll Juniors', 'Tootsie Roll Midgies',\n",
              "       'Tootsie Roll Snack Bars', 'Trolli Sour Bites', 'Twix',\n",
              "       'Twizzlers', 'Warheads', 'WelchÕs Fruit Snacks',\n",
              "       'WertherÕs Original Caramel', 'Whoppers'], dtype=object)"
            ]
          },
          "metadata": {
            "tags": []
          },
          "execution_count": 38
        }
      ]
    },
    {
      "cell_type": "code",
      "metadata": {
        "id": "zarw_Efd9HCl"
      },
      "source": [
        "from sklearn.preprocessing import LabelEncoder\n"
      ],
      "execution_count": 39,
      "outputs": []
    },
    {
      "cell_type": "code",
      "metadata": {
        "id": "DCeMked0AIyF"
      },
      "source": [
        "le = LabelEncoder()"
      ],
      "execution_count": 40,
      "outputs": []
    },
    {
      "cell_type": "code",
      "metadata": {
        "id": "FoI0PY0OALk_"
      },
      "source": [
        "df['competitorname'] = le.fit_transform(df.competitorname)"
      ],
      "execution_count": 41,
      "outputs": []
    },
    {
      "cell_type": "code",
      "metadata": {
        "id": "O2FXK4-8ATJF",
        "colab": {
          "base_uri": "https://localhost:8080/"
        },
        "outputId": "c18ec287-09c9-46bc-e885-61f1a568c046"
      },
      "source": [
        "df['competitorname'].sample(5)"
      ],
      "execution_count": 42,
      "outputs": [
        {
          "output_type": "execute_result",
          "data": {
            "text/plain": [
              "68    68\n",
              "65    65\n",
              "0      0\n",
              "62    41\n",
              "51    52\n",
              "Name: competitorname, dtype: int64"
            ]
          },
          "metadata": {
            "tags": []
          },
          "execution_count": 42
        }
      ]
    },
    {
      "cell_type": "code",
      "metadata": {
        "id": "TqOl_TpHAZk1",
        "colab": {
          "base_uri": "https://localhost:8080/",
          "height": 215
        },
        "outputId": "02486f86-f0a4-4a1a-9a39-15aa3bea40b3"
      },
      "source": [
        "df.head()"
      ],
      "execution_count": 43,
      "outputs": [
        {
          "output_type": "execute_result",
          "data": {
            "text/html": [
              "<div>\n",
              "<style scoped>\n",
              "    .dataframe tbody tr th:only-of-type {\n",
              "        vertical-align: middle;\n",
              "    }\n",
              "\n",
              "    .dataframe tbody tr th {\n",
              "        vertical-align: top;\n",
              "    }\n",
              "\n",
              "    .dataframe thead th {\n",
              "        text-align: right;\n",
              "    }\n",
              "</style>\n",
              "<table border=\"1\" class=\"dataframe\">\n",
              "  <thead>\n",
              "    <tr style=\"text-align: right;\">\n",
              "      <th></th>\n",
              "      <th>competitorname</th>\n",
              "      <th>chocolate</th>\n",
              "      <th>fruity</th>\n",
              "      <th>caramel</th>\n",
              "      <th>peanutyalmondy</th>\n",
              "      <th>nougat</th>\n",
              "      <th>crispedricewafer</th>\n",
              "      <th>hard</th>\n",
              "      <th>bar</th>\n",
              "      <th>pluribus</th>\n",
              "      <th>sugarpercent</th>\n",
              "      <th>pricepercent</th>\n",
              "      <th>winpercent</th>\n",
              "    </tr>\n",
              "  </thead>\n",
              "  <tbody>\n",
              "    <tr>\n",
              "      <th>0</th>\n",
              "      <td>0</td>\n",
              "      <td>1</td>\n",
              "      <td>0</td>\n",
              "      <td>1</td>\n",
              "      <td>0</td>\n",
              "      <td>0</td>\n",
              "      <td>1</td>\n",
              "      <td>0</td>\n",
              "      <td>1</td>\n",
              "      <td>0</td>\n",
              "      <td>0.732</td>\n",
              "      <td>0.860</td>\n",
              "      <td>66.971725</td>\n",
              "    </tr>\n",
              "    <tr>\n",
              "      <th>1</th>\n",
              "      <td>1</td>\n",
              "      <td>1</td>\n",
              "      <td>0</td>\n",
              "      <td>0</td>\n",
              "      <td>0</td>\n",
              "      <td>1</td>\n",
              "      <td>0</td>\n",
              "      <td>0</td>\n",
              "      <td>1</td>\n",
              "      <td>0</td>\n",
              "      <td>0.604</td>\n",
              "      <td>0.511</td>\n",
              "      <td>67.602936</td>\n",
              "    </tr>\n",
              "    <tr>\n",
              "      <th>2</th>\n",
              "      <td>44</td>\n",
              "      <td>0</td>\n",
              "      <td>0</td>\n",
              "      <td>0</td>\n",
              "      <td>0</td>\n",
              "      <td>0</td>\n",
              "      <td>0</td>\n",
              "      <td>0</td>\n",
              "      <td>0</td>\n",
              "      <td>0</td>\n",
              "      <td>0.011</td>\n",
              "      <td>0.116</td>\n",
              "      <td>32.261086</td>\n",
              "    </tr>\n",
              "    <tr>\n",
              "      <th>3</th>\n",
              "      <td>45</td>\n",
              "      <td>0</td>\n",
              "      <td>0</td>\n",
              "      <td>0</td>\n",
              "      <td>0</td>\n",
              "      <td>0</td>\n",
              "      <td>0</td>\n",
              "      <td>0</td>\n",
              "      <td>0</td>\n",
              "      <td>0</td>\n",
              "      <td>0.011</td>\n",
              "      <td>0.511</td>\n",
              "      <td>46.116505</td>\n",
              "    </tr>\n",
              "    <tr>\n",
              "      <th>4</th>\n",
              "      <td>2</td>\n",
              "      <td>0</td>\n",
              "      <td>1</td>\n",
              "      <td>0</td>\n",
              "      <td>0</td>\n",
              "      <td>0</td>\n",
              "      <td>0</td>\n",
              "      <td>0</td>\n",
              "      <td>0</td>\n",
              "      <td>0</td>\n",
              "      <td>0.906</td>\n",
              "      <td>0.511</td>\n",
              "      <td>52.341465</td>\n",
              "    </tr>\n",
              "  </tbody>\n",
              "</table>\n",
              "</div>"
            ],
            "text/plain": [
              "   competitorname  chocolate  fruity  ...  sugarpercent  pricepercent  winpercent\n",
              "0               0          1       0  ...         0.732         0.860   66.971725\n",
              "1               1          1       0  ...         0.604         0.511   67.602936\n",
              "2              44          0       0  ...         0.011         0.116   32.261086\n",
              "3              45          0       0  ...         0.011         0.511   46.116505\n",
              "4               2          0       1  ...         0.906         0.511   52.341465\n",
              "\n",
              "[5 rows x 13 columns]"
            ]
          },
          "metadata": {
            "tags": []
          },
          "execution_count": 43
        }
      ]
    },
    {
      "cell_type": "code",
      "metadata": {
        "id": "LU_V5aolCH_f",
        "colab": {
          "base_uri": "https://localhost:8080/",
          "height": 422
        },
        "outputId": "137d30f0-5bf9-4f7e-95d4-b31b00a5748b"
      },
      "source": [
        "# Calculate the correlation values : \n",
        "features_cols = df.columns[:-1]\n",
        "corr_values = df[features_cols].corr()\n",
        "corr_values"
      ],
      "execution_count": 44,
      "outputs": [
        {
          "output_type": "execute_result",
          "data": {
            "text/html": [
              "<div>\n",
              "<style scoped>\n",
              "    .dataframe tbody tr th:only-of-type {\n",
              "        vertical-align: middle;\n",
              "    }\n",
              "\n",
              "    .dataframe tbody tr th {\n",
              "        vertical-align: top;\n",
              "    }\n",
              "\n",
              "    .dataframe thead th {\n",
              "        text-align: right;\n",
              "    }\n",
              "</style>\n",
              "<table border=\"1\" class=\"dataframe\">\n",
              "  <thead>\n",
              "    <tr style=\"text-align: right;\">\n",
              "      <th></th>\n",
              "      <th>competitorname</th>\n",
              "      <th>chocolate</th>\n",
              "      <th>fruity</th>\n",
              "      <th>caramel</th>\n",
              "      <th>peanutyalmondy</th>\n",
              "      <th>nougat</th>\n",
              "      <th>crispedricewafer</th>\n",
              "      <th>hard</th>\n",
              "      <th>bar</th>\n",
              "      <th>pluribus</th>\n",
              "      <th>sugarpercent</th>\n",
              "      <th>pricepercent</th>\n",
              "    </tr>\n",
              "  </thead>\n",
              "  <tbody>\n",
              "    <tr>\n",
              "      <th>competitorname</th>\n",
              "      <td>1.000000</td>\n",
              "      <td>-0.023211</td>\n",
              "      <td>0.023146</td>\n",
              "      <td>0.059466</td>\n",
              "      <td>-0.020684</td>\n",
              "      <td>-0.181401</td>\n",
              "      <td>0.036629</td>\n",
              "      <td>0.118232</td>\n",
              "      <td>-0.210118</td>\n",
              "      <td>0.066211</td>\n",
              "      <td>-0.124986</td>\n",
              "      <td>-0.176830</td>\n",
              "    </tr>\n",
              "    <tr>\n",
              "      <th>chocolate</th>\n",
              "      <td>-0.023211</td>\n",
              "      <td>1.000000</td>\n",
              "      <td>-0.741721</td>\n",
              "      <td>0.249875</td>\n",
              "      <td>0.377824</td>\n",
              "      <td>0.254892</td>\n",
              "      <td>0.341210</td>\n",
              "      <td>-0.344177</td>\n",
              "      <td>0.597421</td>\n",
              "      <td>-0.339675</td>\n",
              "      <td>0.104169</td>\n",
              "      <td>0.504675</td>\n",
              "    </tr>\n",
              "    <tr>\n",
              "      <th>fruity</th>\n",
              "      <td>0.023146</td>\n",
              "      <td>-0.741721</td>\n",
              "      <td>1.000000</td>\n",
              "      <td>-0.335485</td>\n",
              "      <td>-0.399280</td>\n",
              "      <td>-0.269367</td>\n",
              "      <td>-0.269367</td>\n",
              "      <td>0.390678</td>\n",
              "      <td>-0.515066</td>\n",
              "      <td>0.299725</td>\n",
              "      <td>-0.034393</td>\n",
              "      <td>-0.430969</td>\n",
              "    </tr>\n",
              "    <tr>\n",
              "      <th>caramel</th>\n",
              "      <td>0.059466</td>\n",
              "      <td>0.249875</td>\n",
              "      <td>-0.335485</td>\n",
              "      <td>1.000000</td>\n",
              "      <td>0.059356</td>\n",
              "      <td>0.328493</td>\n",
              "      <td>0.213113</td>\n",
              "      <td>-0.122355</td>\n",
              "      <td>0.333960</td>\n",
              "      <td>-0.269585</td>\n",
              "      <td>0.221933</td>\n",
              "      <td>0.254327</td>\n",
              "    </tr>\n",
              "    <tr>\n",
              "      <th>peanutyalmondy</th>\n",
              "      <td>-0.020684</td>\n",
              "      <td>0.377824</td>\n",
              "      <td>-0.399280</td>\n",
              "      <td>0.059356</td>\n",
              "      <td>1.000000</td>\n",
              "      <td>0.213113</td>\n",
              "      <td>-0.017646</td>\n",
              "      <td>-0.205557</td>\n",
              "      <td>0.260420</td>\n",
              "      <td>-0.206109</td>\n",
              "      <td>0.087889</td>\n",
              "      <td>0.309153</td>\n",
              "    </tr>\n",
              "    <tr>\n",
              "      <th>nougat</th>\n",
              "      <td>-0.181401</td>\n",
              "      <td>0.254892</td>\n",
              "      <td>-0.269367</td>\n",
              "      <td>0.328493</td>\n",
              "      <td>0.213113</td>\n",
              "      <td>1.000000</td>\n",
              "      <td>-0.089744</td>\n",
              "      <td>-0.138675</td>\n",
              "      <td>0.522976</td>\n",
              "      <td>-0.310339</td>\n",
              "      <td>0.123081</td>\n",
              "      <td>0.153196</td>\n",
              "    </tr>\n",
              "    <tr>\n",
              "      <th>crispedricewafer</th>\n",
              "      <td>0.036629</td>\n",
              "      <td>0.341210</td>\n",
              "      <td>-0.269367</td>\n",
              "      <td>0.213113</td>\n",
              "      <td>-0.017646</td>\n",
              "      <td>-0.089744</td>\n",
              "      <td>1.000000</td>\n",
              "      <td>-0.138675</td>\n",
              "      <td>0.423751</td>\n",
              "      <td>-0.224693</td>\n",
              "      <td>0.069950</td>\n",
              "      <td>0.328265</td>\n",
              "    </tr>\n",
              "    <tr>\n",
              "      <th>hard</th>\n",
              "      <td>0.118232</td>\n",
              "      <td>-0.344177</td>\n",
              "      <td>0.390678</td>\n",
              "      <td>-0.122355</td>\n",
              "      <td>-0.205557</td>\n",
              "      <td>-0.138675</td>\n",
              "      <td>-0.138675</td>\n",
              "      <td>1.000000</td>\n",
              "      <td>-0.265165</td>\n",
              "      <td>0.014532</td>\n",
              "      <td>0.091810</td>\n",
              "      <td>-0.244365</td>\n",
              "    </tr>\n",
              "    <tr>\n",
              "      <th>bar</th>\n",
              "      <td>-0.210118</td>\n",
              "      <td>0.597421</td>\n",
              "      <td>-0.515066</td>\n",
              "      <td>0.333960</td>\n",
              "      <td>0.260420</td>\n",
              "      <td>0.522976</td>\n",
              "      <td>0.423751</td>\n",
              "      <td>-0.265165</td>\n",
              "      <td>1.000000</td>\n",
              "      <td>-0.593409</td>\n",
              "      <td>0.099985</td>\n",
              "      <td>0.518407</td>\n",
              "    </tr>\n",
              "    <tr>\n",
              "      <th>pluribus</th>\n",
              "      <td>0.066211</td>\n",
              "      <td>-0.339675</td>\n",
              "      <td>0.299725</td>\n",
              "      <td>-0.269585</td>\n",
              "      <td>-0.206109</td>\n",
              "      <td>-0.310339</td>\n",
              "      <td>-0.224693</td>\n",
              "      <td>0.014532</td>\n",
              "      <td>-0.593409</td>\n",
              "      <td>1.000000</td>\n",
              "      <td>0.045523</td>\n",
              "      <td>-0.220794</td>\n",
              "    </tr>\n",
              "    <tr>\n",
              "      <th>sugarpercent</th>\n",
              "      <td>-0.124986</td>\n",
              "      <td>0.104169</td>\n",
              "      <td>-0.034393</td>\n",
              "      <td>0.221933</td>\n",
              "      <td>0.087889</td>\n",
              "      <td>0.123081</td>\n",
              "      <td>0.069950</td>\n",
              "      <td>0.091810</td>\n",
              "      <td>0.099985</td>\n",
              "      <td>0.045523</td>\n",
              "      <td>1.000000</td>\n",
              "      <td>0.329706</td>\n",
              "    </tr>\n",
              "    <tr>\n",
              "      <th>pricepercent</th>\n",
              "      <td>-0.176830</td>\n",
              "      <td>0.504675</td>\n",
              "      <td>-0.430969</td>\n",
              "      <td>0.254327</td>\n",
              "      <td>0.309153</td>\n",
              "      <td>0.153196</td>\n",
              "      <td>0.328265</td>\n",
              "      <td>-0.244365</td>\n",
              "      <td>0.518407</td>\n",
              "      <td>-0.220794</td>\n",
              "      <td>0.329706</td>\n",
              "      <td>1.000000</td>\n",
              "    </tr>\n",
              "  </tbody>\n",
              "</table>\n",
              "</div>"
            ],
            "text/plain": [
              "                  competitorname  chocolate  ...  sugarpercent  pricepercent\n",
              "competitorname          1.000000  -0.023211  ...     -0.124986     -0.176830\n",
              "chocolate              -0.023211   1.000000  ...      0.104169      0.504675\n",
              "fruity                  0.023146  -0.741721  ...     -0.034393     -0.430969\n",
              "caramel                 0.059466   0.249875  ...      0.221933      0.254327\n",
              "peanutyalmondy         -0.020684   0.377824  ...      0.087889      0.309153\n",
              "nougat                 -0.181401   0.254892  ...      0.123081      0.153196\n",
              "crispedricewafer        0.036629   0.341210  ...      0.069950      0.328265\n",
              "hard                    0.118232  -0.344177  ...      0.091810     -0.244365\n",
              "bar                    -0.210118   0.597421  ...      0.099985      0.518407\n",
              "pluribus                0.066211  -0.339675  ...      0.045523     -0.220794\n",
              "sugarpercent           -0.124986   0.104169  ...      1.000000      0.329706\n",
              "pricepercent           -0.176830   0.504675  ...      0.329706      1.000000\n",
              "\n",
              "[12 rows x 12 columns]"
            ]
          },
          "metadata": {
            "tags": []
          },
          "execution_count": 44
        }
      ]
    },
    {
      "cell_type": "code",
      "metadata": {
        "id": "BCMBAGRaDXMw",
        "colab": {
          "base_uri": "https://localhost:8080/"
        },
        "outputId": "7d4c0a5c-dfe1-4b54-bd0b-6abfe1b311e8"
      },
      "source": [
        "tril_index = np.tril_indices_from(corr_values)\n",
        "tril_index"
      ],
      "execution_count": 45,
      "outputs": [
        {
          "output_type": "execute_result",
          "data": {
            "text/plain": [
              "(array([ 0,  1,  1,  2,  2,  2,  3,  3,  3,  3,  4,  4,  4,  4,  4,  5,  5,\n",
              "         5,  5,  5,  5,  6,  6,  6,  6,  6,  6,  6,  7,  7,  7,  7,  7,  7,\n",
              "         7,  7,  8,  8,  8,  8,  8,  8,  8,  8,  8,  9,  9,  9,  9,  9,  9,\n",
              "         9,  9,  9,  9, 10, 10, 10, 10, 10, 10, 10, 10, 10, 10, 10, 11, 11,\n",
              "        11, 11, 11, 11, 11, 11, 11, 11, 11, 11]),\n",
              " array([ 0,  0,  1,  0,  1,  2,  0,  1,  2,  3,  0,  1,  2,  3,  4,  0,  1,\n",
              "         2,  3,  4,  5,  0,  1,  2,  3,  4,  5,  6,  0,  1,  2,  3,  4,  5,\n",
              "         6,  7,  0,  1,  2,  3,  4,  5,  6,  7,  8,  0,  1,  2,  3,  4,  5,\n",
              "         6,  7,  8,  9,  0,  1,  2,  3,  4,  5,  6,  7,  8,  9, 10,  0,  1,\n",
              "         2,  3,  4,  5,  6,  7,  8,  9, 10, 11]))"
            ]
          },
          "metadata": {
            "tags": []
          },
          "execution_count": 45
        }
      ]
    },
    {
      "cell_type": "code",
      "metadata": {
        "id": "jOGxlehBLvm6",
        "colab": {
          "base_uri": "https://localhost:8080/",
          "height": 402
        },
        "outputId": "59212ccb-614c-4704-a767-71a68a975b98"
      },
      "source": [
        "# Make the unused values as NaNs : \n",
        "corr_array = np.array(corr_values)\n",
        "corr_array[np.tril_indices_from(corr_values)] = np.nan\n",
        "pd.DataFrame(corr_array)"
      ],
      "execution_count": 46,
      "outputs": [
        {
          "output_type": "execute_result",
          "data": {
            "text/html": [
              "<div>\n",
              "<style scoped>\n",
              "    .dataframe tbody tr th:only-of-type {\n",
              "        vertical-align: middle;\n",
              "    }\n",
              "\n",
              "    .dataframe tbody tr th {\n",
              "        vertical-align: top;\n",
              "    }\n",
              "\n",
              "    .dataframe thead th {\n",
              "        text-align: right;\n",
              "    }\n",
              "</style>\n",
              "<table border=\"1\" class=\"dataframe\">\n",
              "  <thead>\n",
              "    <tr style=\"text-align: right;\">\n",
              "      <th></th>\n",
              "      <th>0</th>\n",
              "      <th>1</th>\n",
              "      <th>2</th>\n",
              "      <th>3</th>\n",
              "      <th>4</th>\n",
              "      <th>5</th>\n",
              "      <th>6</th>\n",
              "      <th>7</th>\n",
              "      <th>8</th>\n",
              "      <th>9</th>\n",
              "      <th>10</th>\n",
              "      <th>11</th>\n",
              "    </tr>\n",
              "  </thead>\n",
              "  <tbody>\n",
              "    <tr>\n",
              "      <th>0</th>\n",
              "      <td>NaN</td>\n",
              "      <td>-0.023211</td>\n",
              "      <td>0.023146</td>\n",
              "      <td>0.059466</td>\n",
              "      <td>-0.020684</td>\n",
              "      <td>-0.181401</td>\n",
              "      <td>0.036629</td>\n",
              "      <td>0.118232</td>\n",
              "      <td>-0.210118</td>\n",
              "      <td>0.066211</td>\n",
              "      <td>-0.124986</td>\n",
              "      <td>-0.176830</td>\n",
              "    </tr>\n",
              "    <tr>\n",
              "      <th>1</th>\n",
              "      <td>NaN</td>\n",
              "      <td>NaN</td>\n",
              "      <td>-0.741721</td>\n",
              "      <td>0.249875</td>\n",
              "      <td>0.377824</td>\n",
              "      <td>0.254892</td>\n",
              "      <td>0.341210</td>\n",
              "      <td>-0.344177</td>\n",
              "      <td>0.597421</td>\n",
              "      <td>-0.339675</td>\n",
              "      <td>0.104169</td>\n",
              "      <td>0.504675</td>\n",
              "    </tr>\n",
              "    <tr>\n",
              "      <th>2</th>\n",
              "      <td>NaN</td>\n",
              "      <td>NaN</td>\n",
              "      <td>NaN</td>\n",
              "      <td>-0.335485</td>\n",
              "      <td>-0.399280</td>\n",
              "      <td>-0.269367</td>\n",
              "      <td>-0.269367</td>\n",
              "      <td>0.390678</td>\n",
              "      <td>-0.515066</td>\n",
              "      <td>0.299725</td>\n",
              "      <td>-0.034393</td>\n",
              "      <td>-0.430969</td>\n",
              "    </tr>\n",
              "    <tr>\n",
              "      <th>3</th>\n",
              "      <td>NaN</td>\n",
              "      <td>NaN</td>\n",
              "      <td>NaN</td>\n",
              "      <td>NaN</td>\n",
              "      <td>0.059356</td>\n",
              "      <td>0.328493</td>\n",
              "      <td>0.213113</td>\n",
              "      <td>-0.122355</td>\n",
              "      <td>0.333960</td>\n",
              "      <td>-0.269585</td>\n",
              "      <td>0.221933</td>\n",
              "      <td>0.254327</td>\n",
              "    </tr>\n",
              "    <tr>\n",
              "      <th>4</th>\n",
              "      <td>NaN</td>\n",
              "      <td>NaN</td>\n",
              "      <td>NaN</td>\n",
              "      <td>NaN</td>\n",
              "      <td>NaN</td>\n",
              "      <td>0.213113</td>\n",
              "      <td>-0.017646</td>\n",
              "      <td>-0.205557</td>\n",
              "      <td>0.260420</td>\n",
              "      <td>-0.206109</td>\n",
              "      <td>0.087889</td>\n",
              "      <td>0.309153</td>\n",
              "    </tr>\n",
              "    <tr>\n",
              "      <th>5</th>\n",
              "      <td>NaN</td>\n",
              "      <td>NaN</td>\n",
              "      <td>NaN</td>\n",
              "      <td>NaN</td>\n",
              "      <td>NaN</td>\n",
              "      <td>NaN</td>\n",
              "      <td>-0.089744</td>\n",
              "      <td>-0.138675</td>\n",
              "      <td>0.522976</td>\n",
              "      <td>-0.310339</td>\n",
              "      <td>0.123081</td>\n",
              "      <td>0.153196</td>\n",
              "    </tr>\n",
              "    <tr>\n",
              "      <th>6</th>\n",
              "      <td>NaN</td>\n",
              "      <td>NaN</td>\n",
              "      <td>NaN</td>\n",
              "      <td>NaN</td>\n",
              "      <td>NaN</td>\n",
              "      <td>NaN</td>\n",
              "      <td>NaN</td>\n",
              "      <td>-0.138675</td>\n",
              "      <td>0.423751</td>\n",
              "      <td>-0.224693</td>\n",
              "      <td>0.069950</td>\n",
              "      <td>0.328265</td>\n",
              "    </tr>\n",
              "    <tr>\n",
              "      <th>7</th>\n",
              "      <td>NaN</td>\n",
              "      <td>NaN</td>\n",
              "      <td>NaN</td>\n",
              "      <td>NaN</td>\n",
              "      <td>NaN</td>\n",
              "      <td>NaN</td>\n",
              "      <td>NaN</td>\n",
              "      <td>NaN</td>\n",
              "      <td>-0.265165</td>\n",
              "      <td>0.014532</td>\n",
              "      <td>0.091810</td>\n",
              "      <td>-0.244365</td>\n",
              "    </tr>\n",
              "    <tr>\n",
              "      <th>8</th>\n",
              "      <td>NaN</td>\n",
              "      <td>NaN</td>\n",
              "      <td>NaN</td>\n",
              "      <td>NaN</td>\n",
              "      <td>NaN</td>\n",
              "      <td>NaN</td>\n",
              "      <td>NaN</td>\n",
              "      <td>NaN</td>\n",
              "      <td>NaN</td>\n",
              "      <td>-0.593409</td>\n",
              "      <td>0.099985</td>\n",
              "      <td>0.518407</td>\n",
              "    </tr>\n",
              "    <tr>\n",
              "      <th>9</th>\n",
              "      <td>NaN</td>\n",
              "      <td>NaN</td>\n",
              "      <td>NaN</td>\n",
              "      <td>NaN</td>\n",
              "      <td>NaN</td>\n",
              "      <td>NaN</td>\n",
              "      <td>NaN</td>\n",
              "      <td>NaN</td>\n",
              "      <td>NaN</td>\n",
              "      <td>NaN</td>\n",
              "      <td>0.045523</td>\n",
              "      <td>-0.220794</td>\n",
              "    </tr>\n",
              "    <tr>\n",
              "      <th>10</th>\n",
              "      <td>NaN</td>\n",
              "      <td>NaN</td>\n",
              "      <td>NaN</td>\n",
              "      <td>NaN</td>\n",
              "      <td>NaN</td>\n",
              "      <td>NaN</td>\n",
              "      <td>NaN</td>\n",
              "      <td>NaN</td>\n",
              "      <td>NaN</td>\n",
              "      <td>NaN</td>\n",
              "      <td>NaN</td>\n",
              "      <td>0.329706</td>\n",
              "    </tr>\n",
              "    <tr>\n",
              "      <th>11</th>\n",
              "      <td>NaN</td>\n",
              "      <td>NaN</td>\n",
              "      <td>NaN</td>\n",
              "      <td>NaN</td>\n",
              "      <td>NaN</td>\n",
              "      <td>NaN</td>\n",
              "      <td>NaN</td>\n",
              "      <td>NaN</td>\n",
              "      <td>NaN</td>\n",
              "      <td>NaN</td>\n",
              "      <td>NaN</td>\n",
              "      <td>NaN</td>\n",
              "    </tr>\n",
              "  </tbody>\n",
              "</table>\n",
              "</div>"
            ],
            "text/plain": [
              "    0         1         2         3   ...        8         9         10        11\n",
              "0  NaN -0.023211  0.023146  0.059466  ... -0.210118  0.066211 -0.124986 -0.176830\n",
              "1  NaN       NaN -0.741721  0.249875  ...  0.597421 -0.339675  0.104169  0.504675\n",
              "2  NaN       NaN       NaN -0.335485  ... -0.515066  0.299725 -0.034393 -0.430969\n",
              "3  NaN       NaN       NaN       NaN  ...  0.333960 -0.269585  0.221933  0.254327\n",
              "4  NaN       NaN       NaN       NaN  ...  0.260420 -0.206109  0.087889  0.309153\n",
              "5  NaN       NaN       NaN       NaN  ...  0.522976 -0.310339  0.123081  0.153196\n",
              "6  NaN       NaN       NaN       NaN  ...  0.423751 -0.224693  0.069950  0.328265\n",
              "7  NaN       NaN       NaN       NaN  ... -0.265165  0.014532  0.091810 -0.244365\n",
              "8  NaN       NaN       NaN       NaN  ...       NaN -0.593409  0.099985  0.518407\n",
              "9  NaN       NaN       NaN       NaN  ...       NaN       NaN  0.045523 -0.220794\n",
              "10 NaN       NaN       NaN       NaN  ...       NaN       NaN       NaN  0.329706\n",
              "11 NaN       NaN       NaN       NaN  ...       NaN       NaN       NaN       NaN\n",
              "\n",
              "[12 rows x 12 columns]"
            ]
          },
          "metadata": {
            "tags": []
          },
          "execution_count": 46
        }
      ]
    },
    {
      "cell_type": "code",
      "metadata": {
        "id": "INztGsY6NssE"
      },
      "source": [
        "# Recreate correlation pandas dataframe : \n",
        "corr_values = pd.DataFrame(corr_array, columns=corr_values.columns, index=corr_values.index)"
      ],
      "execution_count": 47,
      "outputs": []
    },
    {
      "cell_type": "code",
      "metadata": {
        "id": "ooW7D7f8Ms1Z"
      },
      "source": [
        "# Stack the data and Convert to dataframe: \n",
        "corr_values = (corr_values.stack()\n",
        "                          .to_frame()\n",
        "                          .reset_index()\n",
        "                          .rename(columns={'level_0':'Features1',\n",
        "                                           'level_1':'Features2',\n",
        "                                           0: 'Correlation'}))"
      ],
      "execution_count": 48,
      "outputs": []
    },
    {
      "cell_type": "code",
      "metadata": {
        "id": "DSyKuD51NpeG",
        "outputId": "1d5a6dcb-a062-4abb-de7a-e0f0f311310e",
        "colab": {
          "base_uri": "https://localhost:8080/",
          "height": 402
        }
      },
      "source": [
        "corr_values"
      ],
      "execution_count": 49,
      "outputs": [
        {
          "output_type": "execute_result",
          "data": {
            "text/html": [
              "<div>\n",
              "<style scoped>\n",
              "    .dataframe tbody tr th:only-of-type {\n",
              "        vertical-align: middle;\n",
              "    }\n",
              "\n",
              "    .dataframe tbody tr th {\n",
              "        vertical-align: top;\n",
              "    }\n",
              "\n",
              "    .dataframe thead th {\n",
              "        text-align: right;\n",
              "    }\n",
              "</style>\n",
              "<table border=\"1\" class=\"dataframe\">\n",
              "  <thead>\n",
              "    <tr style=\"text-align: right;\">\n",
              "      <th></th>\n",
              "      <th>Features1</th>\n",
              "      <th>Features2</th>\n",
              "      <th>Correlation</th>\n",
              "    </tr>\n",
              "  </thead>\n",
              "  <tbody>\n",
              "    <tr>\n",
              "      <th>0</th>\n",
              "      <td>competitorname</td>\n",
              "      <td>chocolate</td>\n",
              "      <td>-0.023211</td>\n",
              "    </tr>\n",
              "    <tr>\n",
              "      <th>1</th>\n",
              "      <td>competitorname</td>\n",
              "      <td>fruity</td>\n",
              "      <td>0.023146</td>\n",
              "    </tr>\n",
              "    <tr>\n",
              "      <th>2</th>\n",
              "      <td>competitorname</td>\n",
              "      <td>caramel</td>\n",
              "      <td>0.059466</td>\n",
              "    </tr>\n",
              "    <tr>\n",
              "      <th>3</th>\n",
              "      <td>competitorname</td>\n",
              "      <td>peanutyalmondy</td>\n",
              "      <td>-0.020684</td>\n",
              "    </tr>\n",
              "    <tr>\n",
              "      <th>4</th>\n",
              "      <td>competitorname</td>\n",
              "      <td>nougat</td>\n",
              "      <td>-0.181401</td>\n",
              "    </tr>\n",
              "    <tr>\n",
              "      <th>...</th>\n",
              "      <td>...</td>\n",
              "      <td>...</td>\n",
              "      <td>...</td>\n",
              "    </tr>\n",
              "    <tr>\n",
              "      <th>61</th>\n",
              "      <td>bar</td>\n",
              "      <td>sugarpercent</td>\n",
              "      <td>0.099985</td>\n",
              "    </tr>\n",
              "    <tr>\n",
              "      <th>62</th>\n",
              "      <td>bar</td>\n",
              "      <td>pricepercent</td>\n",
              "      <td>0.518407</td>\n",
              "    </tr>\n",
              "    <tr>\n",
              "      <th>63</th>\n",
              "      <td>pluribus</td>\n",
              "      <td>sugarpercent</td>\n",
              "      <td>0.045523</td>\n",
              "    </tr>\n",
              "    <tr>\n",
              "      <th>64</th>\n",
              "      <td>pluribus</td>\n",
              "      <td>pricepercent</td>\n",
              "      <td>-0.220794</td>\n",
              "    </tr>\n",
              "    <tr>\n",
              "      <th>65</th>\n",
              "      <td>sugarpercent</td>\n",
              "      <td>pricepercent</td>\n",
              "      <td>0.329706</td>\n",
              "    </tr>\n",
              "  </tbody>\n",
              "</table>\n",
              "<p>66 rows × 3 columns</p>\n",
              "</div>"
            ],
            "text/plain": [
              "         Features1       Features2  Correlation\n",
              "0   competitorname       chocolate    -0.023211\n",
              "1   competitorname          fruity     0.023146\n",
              "2   competitorname         caramel     0.059466\n",
              "3   competitorname  peanutyalmondy    -0.020684\n",
              "4   competitorname          nougat    -0.181401\n",
              "..             ...             ...          ...\n",
              "61             bar    sugarpercent     0.099985\n",
              "62             bar    pricepercent     0.518407\n",
              "63        pluribus    sugarpercent     0.045523\n",
              "64        pluribus    pricepercent    -0.220794\n",
              "65    sugarpercent    pricepercent     0.329706\n",
              "\n",
              "[66 rows x 3 columns]"
            ]
          },
          "metadata": {
            "tags": []
          },
          "execution_count": 49
        }
      ]
    },
    {
      "cell_type": "code",
      "metadata": {
        "id": "k1Y-ZderLhXK"
      },
      "source": [
        ""
      ],
      "execution_count": null,
      "outputs": []
    }
  ]
}